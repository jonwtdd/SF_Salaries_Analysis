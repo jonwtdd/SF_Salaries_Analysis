{
  "nbformat": 4,
  "nbformat_minor": 0,
  "metadata": {
    "colab": {
      "provenance": []
    },
    "kernelspec": {
      "name": "python3",
      "display_name": "Python 3"
    },
    "language_info": {
      "name": "python"
    }
  },
  "cells": [
    {
      "cell_type": "markdown",
      "source": [
        "# San Francisco Salary Classification"
      ],
      "metadata": {
        "id": "ukfkVTVJVKVz"
      }
    },
    {
      "cell_type": "markdown",
      "source": [
        "## Nathan Dorsey and Jon Davidson"
      ],
      "metadata": {
        "id": "uaADJR-LVT0-"
      }
    },
    {
      "cell_type": "markdown",
      "source": [
        "## About the Data"
      ],
      "metadata": {
        "id": "LQmnaL3fQtpN"
      }
    },
    {
      "cell_type": "markdown",
      "source": [
        "For this analysis, we were tasked with using a dataset with hundred of thousands of entries or gigabytes in size. The dataset we chose contains approximately 150,000 entries, measuring all metrics surrounding government workers in San Francisco. Our goal was to use K-Means clustering to uncover any unusual trends based on total pay and employment status (full-time or part-time)."
      ],
      "metadata": {
        "id": "NGIjI3x1QxXr"
      }
    },
    {
      "cell_type": "markdown",
      "source": [
        "## Importing Libraries"
      ],
      "metadata": {
        "id": "g-v5C0J-P9OF"
      }
    },
    {
      "cell_type": "markdown",
      "source": [
        "Standard practice for these analyses are the packages we choose to load in. Pandas is used for data manipulation. NumPy serves as a fundamental package for computing operations. Matplotlib is used for creating visualizations. Seaborn can provide more complex visualizations. Warnings to ensure clean outputs and psutil to monitor effective use of memory when choosing to chunk data."
      ],
      "metadata": {
        "id": "E4vflBLSQAau"
      }
    },
    {
      "cell_type": "code",
      "execution_count": null,
      "metadata": {
        "id": "a3UMYZVTkDE0"
      },
      "outputs": [],
      "source": [
        "import pandas as pd\n",
        "import numpy as np\n",
        "import matplotlib.pyplot as plt\n",
        "import seaborn as sns\n",
        "import warnings\n",
        "warnings.filterwarnings('ignore')\n",
        "import psutil"
      ]
    },
    {
      "cell_type": "markdown",
      "source": [
        "## Loading Data"
      ],
      "metadata": {
        "id": "-Zbc-0RNcTqr"
      }
    },
    {
      "cell_type": "markdown",
      "source": [
        "To load the dataset efficiently, we used chunking, which splits large datasets into smaller more manageable parts. Since the dataset has 148,654 observations, we decided to break it into 8 chunks, each with about 18,581 rows. This helps ease the memory load by processing smaller portions at a time, which is helpful when working with big datasets on machines with limited RAM. By doing this, we reduced the chances of overloading memory while keeping things running smoothly. We loaded each chunk, calculating the sum of the 'TotalPay' column for each, and then combined everything into a single dataframe. To compare, I also loaded the entire dataset at once to see how memory usage differed. In the end, chunking required significantly less memory, reducing usage from 74.18 MB to 27.58 MB."
      ],
      "metadata": {
        "id": "w3WpzGjJlzly"
      }
    },
    {
      "cell_type": "code",
      "source": [
        "# Mount Google Drive\n",
        "from google.colab import drive\n",
        "drive.mount('/content/drive', force_remount=True)\n",
        "\n",
        "#Start tracking memory usage\n",
        "memory_timestep_1 = psutil.virtual_memory()\n",
        "\n",
        "# Load in data in chunk (8 chunks)\n",
        "data_iterator = pd.read_csv(\"/content/drive/My Drive/Colab Notebooks/Salaries.csv\", chunksize=18581)\n",
        "\n",
        "#Initialize salary total\n",
        "total_salary_sum = 0\n",
        "\n",
        "#Store chunks to combine for DF\n",
        "chunks_list = []\n",
        "\n",
        "for data_chunk in data_iterator:\n",
        "    # Add Salary total from each chunk\n",
        "    total_salary_sum += data_chunk['TotalPay'].sum()\n",
        "    # Append chunk to list\n",
        "    chunks_list.append(data_chunk)\n",
        "\n",
        "#Combine all chunks\n",
        "df_combined = pd.concat(chunks_list, ignore_index=True)\n",
        "\n",
        "#Get memory used\n",
        "memory_timestep_2 = psutil.virtual_memory()\n",
        "\n",
        "# Calculate memory\n",
        "memory_used_pd = (memory_timestep_2[3] - memory_timestep_1[3])/(1024*1024)\n",
        "print(\"Memory used with chunking the dataframe: %.4f MB\" % memory_used_pd)\n",
        "\n",
        "# Track memory\n",
        "memory_timestep_3 = psutil.virtual_memory()\n",
        "\n",
        "# Load the entire dataset w/o chunking\n",
        "training_data_pd = pd.read_csv(\"/content/drive/My Drive/Colab Notebooks/Salaries.csv\")\n",
        "total_salary_sum_pd = training_data_pd['TotalPay'].sum()\n",
        "\n",
        "# Get memory usage\n",
        "memory_timestep_4 = psutil.virtual_memory()\n",
        "\n",
        "# Memory used for loading the full dataset\n",
        "memory_used_full = (memory_timestep_4[3] - memory_timestep_3[3])/(1024*1024)\n",
        "print(\"Memory used without chunking the dataframe: %.4f MB\" % memory_used_full)"
      ],
      "metadata": {
        "id": "cdhx1tw1g24R",
        "colab": {
          "base_uri": "https://localhost:8080/"
        },
        "outputId": "1d1cb513-cd9c-4359-8e5b-19c5406b6f83"
      },
      "execution_count": null,
      "outputs": [
        {
          "output_type": "stream",
          "name": "stdout",
          "text": [
            "Mounted at /content/drive\n",
            "Memory used with chunking the dataframe: 27.1289 MB\n",
            "Memory used without chunking the dataframe: 29.7812 MB\n"
          ]
        }
      ]
    },
    {
      "cell_type": "markdown",
      "source": [
        "## Data Cleaning and Preprocessing"
      ],
      "metadata": {
        "id": "bQIqEjJA9R13"
      }
    },
    {
      "cell_type": "markdown",
      "source": [
        "In this section, we focused on cleaning the dataset by first eliminating any rows where either EmployeeName or Job Title was recorded as \"Not Provided,\" since these entries wouldn't add value to the analysis. We then examined the unique values in the Agency column to identify if any cities in Greater San Francisco were mentioned, although we ultimately decided to remove the Agency and Notes columns altogether. The Agency column wasn't relevant as all recording were \"San Francisco\" and work performance, recorded in the Notes column, was too difficult to measure effectively. We also dropped the Id column because it was redundant, as the row numbers already served as identifiers. Finally, we cleaned up missing data in the BasePay and Benefits columns by filling any null values with zeros to ensure they wouldn't interfere with the usable data. We dropped the EmployeeName column after removing NAs to avoid interference when producing models."
      ],
      "metadata": {
        "id": "oEmC34iBrret"
      }
    },
    {
      "cell_type": "code",
      "source": [
        "#Eliminate rows where EmployeeName or JobTitle is not recorded\n",
        "print(df_combined.tail())\n",
        "print(df_combined.isna().sum())\n",
        "\n",
        "#Eliminate all observations with Not Provided in EmployeeName and JobTitle\n",
        "df_combined = df_combined[df_combined['EmployeeName'] != 'Not provided']\n",
        "df_combined = df_combined[df_combined['JobTitle'] != 'Not provided']\n",
        "\n",
        "#Find unique values in Agency column\n",
        "print(df_combined['Agency'].unique())\n",
        "\n",
        "#Eliminate Notes and Agency\n",
        "df_combined = df_combined.drop(['Notes', 'Agency'], axis=1)\n",
        "\n",
        "#Eliminate Id column\n",
        "df_combined = df_combined.drop(['Id'], axis=1)\n",
        "\n",
        "#Make N/As / Nulls into zeros\n",
        "df_combined['BasePay'] = df_combined['BasePay'].fillna(0)\n",
        "df_combined['Benefits'] = df_combined['Benefits'].fillna(0)"
      ],
      "metadata": {
        "colab": {
          "base_uri": "https://localhost:8080/"
        },
        "id": "UrcSkWU9wE8g",
        "outputId": "7d826b73-2a2d-435b-a511-3dd58e5620a0"
      },
      "execution_count": null,
      "outputs": [
        {
          "output_type": "stream",
          "name": "stdout",
          "text": [
            "            Id   EmployeeName                    JobTitle       BasePay  \\\n",
            "148649  148650  Roy I Tillery                   Custodian          0.00   \n",
            "148650  148651   Not provided                Not provided  Not Provided   \n",
            "148651  148652   Not provided                Not provided  Not Provided   \n",
            "148652  148653   Not provided                Not provided  Not Provided   \n",
            "148653  148654      Joe Lopez  Counselor, Log Cabin Ranch          0.00   \n",
            "\n",
            "         OvertimePay      OtherPay      Benefits  TotalPay  TotalPayBenefits  \\\n",
            "148649          0.00          0.00          0.00      0.00              0.00   \n",
            "148650  Not Provided  Not Provided  Not Provided      0.00              0.00   \n",
            "148651  Not Provided  Not Provided  Not Provided      0.00              0.00   \n",
            "148652  Not Provided  Not Provided  Not Provided      0.00              0.00   \n",
            "148653          0.00       -618.13          0.00   -618.13           -618.13   \n",
            "\n",
            "        Year  Notes         Agency Status  \n",
            "148649  2014    NaN  San Francisco     PT  \n",
            "148650  2014    NaN  San Francisco    NaN  \n",
            "148651  2014    NaN  San Francisco    NaN  \n",
            "148652  2014    NaN  San Francisco    NaN  \n",
            "148653  2014    NaN  San Francisco     PT  \n",
            "Id                       0\n",
            "EmployeeName             0\n",
            "JobTitle                 0\n",
            "BasePay                605\n",
            "OvertimePay              0\n",
            "OtherPay                 0\n",
            "Benefits             36159\n",
            "TotalPay                 0\n",
            "TotalPayBenefits         0\n",
            "Year                     0\n",
            "Notes               148654\n",
            "Agency                   0\n",
            "Status              110535\n",
            "dtype: int64\n",
            "['San Francisco']\n"
          ]
        }
      ]
    },
    {
      "cell_type": "markdown",
      "source": [
        "Since the data recorded all salaries from 2011 to 2014, people continue to work through that period will appear more than once. Attempting to combine all columns to get a representative dataset across years wouldn't not work as Department and Status varies immensely across these years. Therefore, we have to choose one year, where duplicates don't exist in order to analyze the year with the most data, which is 2014."
      ],
      "metadata": {
        "id": "8fBGilhF5xbE"
      }
    },
    {
      "cell_type": "code",
      "source": [
        "yr2011 = df_combined[df_combined['Year'] == 2011].shape[0]\n",
        "yr2012 = df_combined[df_combined['Year'] == 2012].shape[0]\n",
        "yr2013 = df_combined[df_combined['Year'] == 2013].shape[0]\n",
        "yr2014 = df_combined[df_combined['Year'] == 2014].shape[0]\n",
        "\n",
        "# Print total observations for years\n",
        "print(f\"Year 2011: {yr2011}\")\n",
        "print(f\"Year 2012: {yr2012}\")\n",
        "print(f\"Year 2013: {yr2013}\")\n",
        "print(f\"Year 2014: {yr2014}\")\n",
        "\n",
        "#Drop Years 2011 to 2013\n",
        "df_combined = df_combined[df_combined['Year'] != 2011]\n",
        "df_combined = df_combined[df_combined['Year'] != 2012]\n",
        "df_combined = df_combined[df_combined['Year'] != 2013]\n",
        "\n",
        "#Print totals after reduction\n",
        "print(df_combined.shape)"
      ],
      "metadata": {
        "colab": {
          "base_uri": "https://localhost:8080/"
        },
        "id": "Ra2BBzeL5wfv",
        "outputId": "47add047-987c-4564-d4b6-f759d7cfa705"
      },
      "execution_count": null,
      "outputs": [
        {
          "output_type": "stream",
          "name": "stdout",
          "text": [
            "Year 2011: 36159\n",
            "Year 2012: 36766\n",
            "Year 2013: 37606\n",
            "Year 2014: 38119\n",
            "(38119, 10)\n"
          ]
        }
      ]
    },
    {
      "cell_type": "markdown",
      "source": [
        "## Ensure Correct Datatypes"
      ],
      "metadata": {
        "id": "HDPYWRXGzKQq"
      }
    },
    {
      "cell_type": "code",
      "source": [
        "#Ensure data types\n",
        "df_combined.dtypes"
      ],
      "metadata": {
        "colab": {
          "base_uri": "https://localhost:8080/",
          "height": 418
        },
        "id": "e5oaR629zMr8",
        "outputId": "73c4b375-91e6-4d6d-885a-79fcfb547072"
      },
      "execution_count": null,
      "outputs": [
        {
          "output_type": "execute_result",
          "data": {
            "text/plain": [
              "EmployeeName         object\n",
              "JobTitle             object\n",
              "BasePay              object\n",
              "OvertimePay          object\n",
              "OtherPay             object\n",
              "Benefits             object\n",
              "TotalPay            float64\n",
              "TotalPayBenefits    float64\n",
              "Year                  int64\n",
              "Status               object\n",
              "dtype: object"
            ],
            "text/html": [
              "<div>\n",
              "<style scoped>\n",
              "    .dataframe tbody tr th:only-of-type {\n",
              "        vertical-align: middle;\n",
              "    }\n",
              "\n",
              "    .dataframe tbody tr th {\n",
              "        vertical-align: top;\n",
              "    }\n",
              "\n",
              "    .dataframe thead th {\n",
              "        text-align: right;\n",
              "    }\n",
              "</style>\n",
              "<table border=\"1\" class=\"dataframe\">\n",
              "  <thead>\n",
              "    <tr style=\"text-align: right;\">\n",
              "      <th></th>\n",
              "      <th>0</th>\n",
              "    </tr>\n",
              "  </thead>\n",
              "  <tbody>\n",
              "    <tr>\n",
              "      <th>EmployeeName</th>\n",
              "      <td>object</td>\n",
              "    </tr>\n",
              "    <tr>\n",
              "      <th>JobTitle</th>\n",
              "      <td>object</td>\n",
              "    </tr>\n",
              "    <tr>\n",
              "      <th>BasePay</th>\n",
              "      <td>object</td>\n",
              "    </tr>\n",
              "    <tr>\n",
              "      <th>OvertimePay</th>\n",
              "      <td>object</td>\n",
              "    </tr>\n",
              "    <tr>\n",
              "      <th>OtherPay</th>\n",
              "      <td>object</td>\n",
              "    </tr>\n",
              "    <tr>\n",
              "      <th>Benefits</th>\n",
              "      <td>object</td>\n",
              "    </tr>\n",
              "    <tr>\n",
              "      <th>TotalPay</th>\n",
              "      <td>float64</td>\n",
              "    </tr>\n",
              "    <tr>\n",
              "      <th>TotalPayBenefits</th>\n",
              "      <td>float64</td>\n",
              "    </tr>\n",
              "    <tr>\n",
              "      <th>Year</th>\n",
              "      <td>int64</td>\n",
              "    </tr>\n",
              "    <tr>\n",
              "      <th>Status</th>\n",
              "      <td>object</td>\n",
              "    </tr>\n",
              "  </tbody>\n",
              "</table>\n",
              "</div><br><label><b>dtype:</b> object</label>"
            ]
          },
          "metadata": {},
          "execution_count": 90
        }
      ]
    },
    {
      "cell_type": "markdown",
      "source": [
        "In this process, we aimed to optimize memory usage by converting several columns in the dataset to more efficient datatypes. We ensured BasePay, OvertimePay, OtherPay, Benefits, TotalPayBenefits, and TotalPay columns were converted to float32. This reduces the memory each value takes from 8 bytes to 4 bytes, effectively cutting memory usage in half for the columns. We also converted the Year column from int 64 to int, which requires less memory while maintaining the same data."
      ],
      "metadata": {
        "id": "jcRKxvb70BN8"
      }
    },
    {
      "cell_type": "code",
      "source": [
        "#Convert BasePay, OvertimePay, OtherPay, Benefits to numeric datatype to reduce memory usage\n",
        "df_combined['BasePay'] = df_combined['BasePay'].astype('float32')\n",
        "df_combined['OvertimePay'] = df_combined['OvertimePay'].astype('float32')\n",
        "df_combined['OtherPay'] = df_combined['OtherPay'].astype('float32')\n",
        "df_combined['Benefits'] = df_combined['Benefits'].astype('float32')\n",
        "\n",
        "#Convert Year from int64 to int\n",
        "df_combined['Year'] = df_combined['Year'].astype('int')\n",
        "\n",
        "#Convert TotalPay and TotalPayBenefits from float64 to float- uses more memory without purpose\n",
        "df_combined['TotalPay'] = df_combined['TotalPay'].astype('float32')\n",
        "df_combined['TotalPayBenefits'] = df_combined['TotalPayBenefits'].astype('float32')\n",
        "\n",
        "#Confirm changes\n",
        "print(df_combined.dtypes)"
      ],
      "metadata": {
        "colab": {
          "base_uri": "https://localhost:8080/"
        },
        "id": "sDAEA6izzUCO",
        "outputId": "7daa404d-9f3d-470c-962c-1879b7921a0d"
      },
      "execution_count": null,
      "outputs": [
        {
          "output_type": "stream",
          "name": "stdout",
          "text": [
            "EmployeeName         object\n",
            "JobTitle             object\n",
            "BasePay             float32\n",
            "OvertimePay         float32\n",
            "OtherPay            float32\n",
            "Benefits            float32\n",
            "TotalPay            float32\n",
            "TotalPayBenefits    float32\n",
            "Year                  int64\n",
            "Status               object\n",
            "dtype: object\n"
          ]
        }
      ]
    },
    {
      "cell_type": "markdown",
      "source": [
        "## Feature Engineering"
      ],
      "metadata": {
        "id": "t39GbG3utlRy"
      }
    },
    {
      "cell_type": "markdown",
      "source": [
        "In this section, we began by examining the format of the JobTitle column to understand how job titles were structured. After reviewing the unique values, we noticed that job titles often contained both position and department, with department typically being in parentheses, or being the last one or two words. Using that, we split the JobTitle into two columns, Position and Department. Although after later realization, we chose to drop Position as it was too difficult to assign Positions to groups versus Departments. We chose to turn the Status column binary with 1 as full-time and 0 as part-time to make it easier later."
      ],
      "metadata": {
        "id": "4MF6GTPctvhg"
      }
    },
    {
      "cell_type": "code",
      "source": [
        "#Separate JobTitle into two columns for Position and Department\n",
        "df_combined['Position'] = df_combined['JobTitle'].str.split(' ').str[0].str.strip()\n",
        "df_combined['Department'] = df_combined['JobTitle'].str.split('(').str[1]\n",
        "df_combined['Department'] = df_combined['Department'].str.replace(')', '', regex=False)\n",
        "\n",
        "# Extract last word or two from JobTitle if no department is found\n",
        "df_combined['Department'] = df_combined['Department'].fillna(\n",
        "    df_combined['JobTitle'].apply(lambda x: x.split()[-2] if x.split()[-1].isdigit() else x.split()[-1])\n",
        ")\n",
        "\n",
        "#Drop JobTitle column\n",
        "df_combined = df_combined.drop(['JobTitle'], axis=1)\n",
        "\n",
        "#Drop Position column\n",
        "df_combined = df_combined.drop(['Position'], axis=1)\n",
        "\n",
        "#Make Status binary\n",
        "df_combined['Status'] = df_combined['Status'].apply(lambda x: 1 if x == 'FT' else 0)"
      ],
      "metadata": {
        "id": "zj8-V1JDkd03"
      },
      "execution_count": null,
      "outputs": []
    },
    {
      "cell_type": "markdown",
      "source": [
        "After further analysis of Department and Position, it was impossible to group roles and departments for an analysis, so I mapped all printed unique Departments to 10 groups, minimizing it to the best of our abilities while emphasizing rank and departments of government in one column. We saw this as the most effective way to group, even though, it might hurt the overall analysis. These groups are Law Enforcement, Public Safety, Health, Budgeting, Administration, Technician, Transport, Legal, Education, and Other."
      ],
      "metadata": {
        "id": "o9bRVlYHILwO"
      }
    },
    {
      "cell_type": "code",
      "source": [
        "#All unique values in Department and Position\n",
        "df_combined['Department'].unique()\n",
        "\n",
        "# Remapping specific departments in 10 groups to show both rank and department\n",
        "department_groups = {\n",
        "  'Officer': 'Law Enforcement',\n",
        "  'Police': 'Law Enforcement',\n",
        "  'Sheriff': 'Law Enforcement',\n",
        "  'Sergeant': 'Law Enforcement',\n",
        "  'Lieutenant': 'Law Enforcement',\n",
        "  'Captain': 'Law Enforcement',\n",
        "  'Commander': 'Law Enforcement',\n",
        "  'Investigator': 'Law Enforcement',\n",
        "  'InvestigatorIII': 'Law Enforcement',\n",
        "  'Insp': 'Law Enforcement',\n",
        "  'Defender': 'Law Enforcement',\n",
        "  'Cadet': 'Law Enforcement',\n",
        "  'Undersheriff': 'Law Enforcement',\n",
        "  'Sup/Invst.': 'Law Enforcement',\n",
        "  'Ofcr': 'Law Enforcement',\n",
        "  'Civil & Criminal': 'Law Enforcement',\n",
        "  'Probation': 'Law Enforcement',\n",
        "  'Invsgtn': 'Law Enforcement',\n",
        "  'Examiner': 'Law Enforcement',\n",
        "  'Inspector': 'Law Enforcement',\n",
        "  'Inpsector': 'Law Enforcement',\n",
        "  'Police Department': 'Law Enforcement',\n",
        "  'Criminal': 'Law Enforcement',\n",
        "  'Civil/Criminal': 'Law Enforcement',\n",
        "  'Invstgtor': 'Law Enforcement',\n",
        "  'Ofc': 'Law Enforcement',\n",
        "  'Paramedic': 'Public Safety',\n",
        "  'Fire Dept': 'Public Safety',\n",
        "  'Firefighter': 'Public Safety',\n",
        "  'EMT/Paramedic/Firefighter': 'Public Safety',\n",
        "  'Suppress': 'Public Safety',\n",
        "  'Suppression': 'Public Safety',\n",
        "  'Guard': 'Public Safety',\n",
        "  'Lifeguard': 'Public Safety',\n",
        "  'DPH': 'Health',\n",
        "  'Health': 'Health',\n",
        "  'Psychiatric': 'Health',\n",
        "  'Nurse': 'Health',\n",
        "  'Anesthetist': 'Health',\n",
        "  'Pharmacist': 'Health',\n",
        "  'Toxicologist': 'Health',\n",
        "  'Practitioner': 'Health',\n",
        "  'Midwife': 'Health',\n",
        "  'Counselor': 'Health',\n",
        "  'Therapist': 'Health',\n",
        "  'Dentist': 'Health',\n",
        "  'Veterinarian': 'Health',\n",
        "  'Hygienist': 'Health',\n",
        "  'Acupuncturist': 'Health',\n",
        "  'Microbiologist': 'Health',\n",
        "  'Biologist': 'Health',\n",
        "  'Pathologist': 'Health',\n",
        "  'Psychologist': 'Health',\n",
        "  'Epidemiologist': 'Health',\n",
        "  'Audiometrist': 'Health',\n",
        "  'Dietitian': 'Health',\n",
        "  'Nutritionist': 'Health',\n",
        "  'SFGH': 'Health',\n",
        "  'Audiologist': 'Health',\n",
        "  'Cnslr': 'Health',\n",
        "  'Controller': 'Budgeting',\n",
        "  'Treasurer': 'Budgeting',\n",
        "  'Assessor': 'Budgeting',\n",
        "  'Purchaser': 'Budgeting',\n",
        "  'Benefits': 'Budgeting',\n",
        "  'Auditor': 'Budgeting',\n",
        "  'Appraiser': 'Budgeting',\n",
        "  'Adjuster': 'Budgeting',\n",
        "  'Collector': 'Budgeting',\n",
        "  'Accountant': 'Budgeting',\n",
        "  'Retirement': 'Budgeting',\n",
        "  'Manager': 'Administration',\n",
        "  'Supervisor': 'Administration',\n",
        "  'Supt': 'Administration',\n",
        "  'Planner': 'Administration',\n",
        "  'Coordinator': 'Administration',\n",
        "  'Administrator': 'Administration',\n",
        "  'Director': 'Administration',\n",
        "  'Assistant': 'Administration',\n",
        "  'Administrator-Supervisor': 'Administration',\n",
        "  'Comm': 'Administration',\n",
        "  'Trainer-Senior': 'Administration',\n",
        "  'Trainer-Assistant': 'Administration',\n",
        "  'Coordinator': 'Administration',\n",
        "  'Clerk': 'Administration',\n",
        "  'Secretary': 'Administration',\n",
        "  'Registrar': 'Administration',\n",
        "  'Trainer-Journey': 'Administration',\n",
        "  'Leader': 'Administration',\n",
        "  'Advisor': 'Administration',\n",
        "  'Admin': 'Administration',\n",
        "  'Chief': 'Administration',\n",
        "  'Department': 'Administration',\n",
        "  'Employee': 'Administration',\n",
        "  'Dept': 'Administration',\n",
        "  'Specialist': 'Administration',\n",
        "  'Mayor': 'Administration',\n",
        "  'Center': 'Administration',\n",
        "  'VIII': 'Administration',\n",
        "  'Prev': 'Administration',\n",
        "  'IV': 'Administration',\n",
        "  'SFERS': 'Administration',\n",
        "  'Spec': 'Administration',\n",
        "  'Svcs': 'Administration',\n",
        "  'III': 'Administration',\n",
        "  'Div': 'Administration',\n",
        "  'VII': 'Administration',\n",
        "  'Sprv': 'Administration',\n",
        "  'VI': 'Administration',\n",
        "  'II': 'Administration',\n",
        "  'XVII': 'Administration',\n",
        "  'I': 'Administration',\n",
        "  'Associate': 'Administration',\n",
        "  'Sr': 'Administration',\n",
        "  'Assoc': 'Administration',\n",
        "  'Sprv1': 'Administration',\n",
        "  'XVI': 'Administration',\n",
        "  'XV': 'Administration',\n",
        "  'Fac': 'Administration',\n",
        "  'Analyst': 'Administration',\n",
        "  'Analyst-Principal': 'Administration',\n",
        "  'Coord': 'Administration',\n",
        "  'Hall': 'Administration',\n",
        "  'Supv': 'Administration',\n",
        "  'Mgr': 'Administration',\n",
        "  'Analyst-Senior': 'Administration',\n",
        "  'XIV': 'Administration',\n",
        "  'Universal': 'Administration',\n",
        "  'Review': 'Administration',\n",
        "  'Services': 'Administration',\n",
        "  'Wrk': 'Administration',\n",
        "  'XI': 'Administration',\n",
        "  'XIII': 'Administration',\n",
        "  'Scheduler': 'Administration',\n",
        "  'Poll': 'Administration',\n",
        "  'Repres': 'Administration',\n",
        "  'Supervisors': 'Administration',\n",
        "  'Superintendent': 'Administration',\n",
        "  'Repr': 'Administration',\n",
        "  'Involvement': 'Administration',\n",
        "  'Rec': 'Administration',\n",
        "  'Representat': 'Administration',\n",
        "  'OCC': 'Administration',\n",
        "  'AccessSvcs': 'Administration',\n",
        "  'Cmplnts': 'Administration',\n",
        "  'Aide': 'Administration',\n",
        "  'Commission': 'Administration',\n",
        "  'Rep': 'Administration',\n",
        "  'Page': 'Administration',\n",
        "  'Aide-Admin': 'Administration',\n",
        "  'Works': 'Administration',\n",
        "  'Intern': 'Administration',\n",
        "  'Prof': 'Administration',\n",
        "  'Supervisor': 'Administration',\n",
        "  'Sup': 'Administration',\n",
        "  'Supervis': 'Administration',\n",
        "  'Conversion': 'Administration',\n",
        "  'M=$200/Mtg': 'Administration',\n",
        "  'Grp5,M$100/Mo': 'Administration',\n",
        "  'Grp3,M=$50/Mtg': 'Administration',\n",
        "  'Grp2,M=$25/Mtg': 'Administration',\n",
        "  'Engineer': 'Technician',\n",
        "  'Technician': 'Technician',\n",
        "  'Technician-Senior': 'Technician',\n",
        "  'Architect': 'Technician',\n",
        "  'Machinist': 'Technician',\n",
        "  'Mechanic': 'Technician',\n",
        "  'Welder': 'Technician',\n",
        "  'Carpenter': 'Technician',\n",
        "  'Locksmith': 'Technician',\n",
        "  'Plumber': 'Technician',\n",
        "  'Painter': 'Technician',\n",
        "  'Steamfitter': 'Technician',\n",
        "  'Eng,WtrTreatPlnt': 'Technician',\n",
        "  'Eng': 'Technician',\n",
        "  'Engineer-Senior': 'Technician',\n",
        "  'Engineer-Principal': 'Technician',\n",
        "  'Engineer-Journey': 'Technician',\n",
        "  'Surveyor': 'Technician',\n",
        "  'Technican': 'Technician',\n",
        "  'Apprentice': 'Technician',\n",
        "  'Splicer': 'Technician',\n",
        "  'Chemist': 'Technician',\n",
        "  'Microbiologist': 'Technician',\n",
        "  'Mech': 'Technician',\n",
        "  'Tech': 'Technician',\n",
        "  'Electrician': 'Technician',\n",
        "  'Worker': 'Technician',\n",
        "  'Engr': 'Technician',\n",
        "  'Plnt': 'Technician',\n",
        "  'Plant': 'Technician',\n",
        "  'Repairer': 'Technician',\n",
        "  'Cleaner': 'Technician',\n",
        "  'Engineer-Assistant': 'Technician',\n",
        "  'Engineer-Principal': 'Technician',\n",
        "  'Engineer-Senior': 'Technician',\n",
        "  'Engineer-Journey': 'Technician',\n",
        "  'Helper': 'Technician',\n",
        "  'Storekeeper': 'Technician',\n",
        "  'Forester': 'Technician',\n",
        "  'Laborer': 'Technician',\n",
        "  'Bricklayer': 'Technician',\n",
        "  'Glazier': 'Technician',\n",
        "  'Environ': 'Technician',\n",
        "  'Mason': 'Technician',\n",
        "  'Maker': 'Technician',\n",
        "  'Groundskpr': 'Technician',\n",
        "  'Signs': 'Technician',\n",
        "  'Spc': 'Technician',\n",
        "  'Designer': 'Technician',\n",
        "  'Specialst': 'Technician',\n",
        "  'Anl': 'Technician',\n",
        "  'Meas': 'Technician',\n",
        "  'Keeper': 'Technician',\n",
        "  'Roofer': 'Technician',\n",
        "  'Typist': 'Technician',\n",
        "  'Analyst-Assistant': 'Technician',\n",
        "  'Hodcarrier': 'Technician',\n",
        "  'Gardener': 'Technician',\n",
        "  'Metalsmith': 'Technician',\n",
        "  'Finisher': 'Technician',\n",
        "  'Custodian': 'Technician',\n",
        "  'Coverer': 'Technician',\n",
        "  'Preparator': 'Technician',\n",
        "  'Setter': 'Technician',\n",
        "  'Assist': 'Technician',\n",
        "  'Wrkr': 'Technician',\n",
        "  'Trainee': 'Technician',\n",
        "  'Operator-Senior': 'Technician',\n",
        "  'Asst': 'Technician',\n",
        "  'Tech.': 'Technician',\n",
        "  'Farmer': 'Technician',\n",
        "  'Clnr': 'Technician',\n",
        "  'Train2/Arch/Eng/Plng': 'Technician',\n",
        "  'Arch/Eng/Plng': 'Technician',\n",
        "  'Analyst-Assistant': 'Technician',\n",
        "  'Operator-Journey': 'Technician',\n",
        "  'Statistician': 'Technician',\n",
        "  'MTA': 'Transport',\n",
        "  'SFMTA': 'Transport',\n",
        "  'Railway': 'Transport',\n",
        "  'Operator': 'Transport',\n",
        "  'Dispatcher': 'Transport',\n",
        "  'Driver': 'Transport',\n",
        "  'Porter': 'Transport',\n",
        "  'Checker': 'Transport',\n",
        "  'Disp': 'Transport',\n",
        "  'Boats': 'Transport',\n",
        "  'Wharfinger': 'Transport',\n",
        "  'Port': 'Transport',\n",
        "  'Attorney': 'Legal',\n",
        "  'Atty': 'Legal',\n",
        "  'Defender': 'Legal',\n",
        "  'Court': 'Legal',\n",
        "  'Civil & Criminal': 'Legal',\n",
        "  'Probation': 'Legal',\n",
        "  'Court': 'Legal',\n",
        "  'Prob': 'Legal',\n",
        "  'Cvl&Crmnl': 'Legal',\n",
        "  'Principal': 'Education',\n",
        "  'Instructor': 'Education',\n",
        "  'Librarian': 'Education',\n",
        "  'Educator': 'Education',\n",
        "  'Braillist': 'Education',\n",
        "  'Artist': 'Education',\n",
        "  'Photographer': 'Education',\n",
        "  'Curator': 'Education',\n",
        "  'Arts': 'Education',\n",
        "  'Ranch': 'Other',\n",
        "  'Rnch': 'Other',\n",
        "  'Helper': 'Other',\n",
        "  'Receiver': 'Other',\n",
        "  'Agent': 'Other',\n",
        "  'Women': 'Other',\n",
        "  'Chef': 'Other',\n",
        "  'Baker': 'Other',\n",
        "  'Barber': 'Other',\n",
        "  'Beautician': 'Other',\n",
        "  'Cook': 'Other',\n",
        "  'Orderly': 'Other',\n",
        "  'Attendant': 'Other',\n",
        "  'Cashier': 'Other',\n",
        "  'Reader': 'Other',\n",
        "  'Measures': 'Other',\n",
        "  'Of': 'Other',\n",
        "  'I/II': 'Other',\n",
        "  'Seasonal': 'Other',\n",
        "  'Works': 'Other',\n",
        "  'V': 'Other',\n",
        "  'CA': 'Other',\n",
        "  'IX': 'Other',\n",
        "  'AAM': 'Other',\n",
        "  'X': 'Other'\n",
        "}\n",
        "\n",
        "# Map Department to broader categories in DepartmentGroup\n",
        "df_combined['DepartmentGroup'] = df_combined['Department'].map(department_groups)\n",
        "\n",
        "# Check unmapped departments\n",
        "unmapped_departments = df_combined[df_combined['DepartmentGroup'].isna()]['Department'].unique()\n",
        "print(\"Unmapped Departments:\", unmapped_departments)"
      ],
      "metadata": {
        "colab": {
          "base_uri": "https://localhost:8080/"
        },
        "id": "3V23VB4t9_Ut",
        "outputId": "c2a8533d-5bdc-45d3-abbe-b8553d5faca3"
      },
      "execution_count": null,
      "outputs": [
        {
          "output_type": "stream",
          "name": "stdout",
          "text": [
            "Unmapped Departments: []\n"
          ]
        }
      ]
    },
    {
      "cell_type": "markdown",
      "source": [
        "### Analysis\n",
        "\n",
        "Now, we will use K-Means Clustering to group the data based on compensation and employment status (part-time or full-time).\n",
        "\n",
        "First, we'll use the elbow method to determine the optimal number of clusters to group the data in based on the sum of squared distances between each data point and the centroid to the cluster it is in."
      ],
      "metadata": {
        "id": "JthsxB_jhj2x"
      }
    },
    {
      "cell_type": "code",
      "source": [
        "numeric_columns = ['BasePay', 'OvertimePay', 'OtherPay', 'Benefits', 'TotalPay', 'TotalPayBenefits']\n",
        "data_for_clustering = df_combined[numeric_columns]\n",
        "\n",
        "# Standardize the data\n",
        "scaler = StandardScaler()\n",
        "scaled_data = scaler.fit_transform(data_for_clustering)\n",
        "\n",
        "# Use the Elbow method to find the optimal number of clusters\n",
        "inertia = []\n",
        "K = range(1, 11)\n",
        "\n",
        "for k in K:\n",
        "    kmeans = KMeans(n_clusters=k, random_state=42)\n",
        "    kmeans.fit(scaled_data)\n",
        "    inertia.append(kmeans.inertia_)\n",
        "\n",
        "# Plot the Elbow curve\n",
        "plt.figure(figsize=(8, 6))\n",
        "plt.plot(K, inertia, 'bo-', markersize=8)\n",
        "plt.xlabel('Number of clusters (k)')\n",
        "plt.ylabel('Inertia (Sum of Squared Distances)')\n",
        "plt.title('Elbow Method for Optimal k')\n",
        "plt.grid(True)\n",
        "plt.show()"
      ],
      "metadata": {
        "id": "1WGHBzMQJ80p",
        "colab": {
          "base_uri": "https://localhost:8080/",
          "height": 584
        },
        "outputId": "3e98d271-8f4c-4449-d396-35a751978c22"
      },
      "execution_count": null,
      "outputs": [
        {
          "output_type": "display_data",
          "data": {
            "text/plain": [
              "<Figure size 800x600 with 1 Axes>"
            ],
            "image/png": "[encoded data removed]"
          },
          "metadata": {}
        }
      ]
    },
    {
      "cell_type": "markdown",
      "source": [
        "From the elbow method, we can see that about 4 clusters is the optimal number, as we start to see diminishing marginal returns from each additional cluster after that point, although the line is certainly more curved than it is angled, possibly due to the size of the dataset and number of observations and features.\n",
        "\n",
        "First, we want to run the algorithm with the chosen value of k=4."
      ],
      "metadata": {
        "id": "AWeMdaJYSnJo"
      }
    },
    {
      "cell_type": "code",
      "source": [
        "from sklearn.cluster import KMeans\n",
        "\n",
        "# Set the number of clusters to 4 (based on the Elbow method result)\n",
        "kmeans = KMeans(n_clusters=4, random_state=42)\n",
        "\n",
        "# Fit the KMeans model on your scaled data\n",
        "kmeans.fit(scaled_data)\n",
        "\n",
        "# Get the cluster labels for each data point\n",
        "df_combined['Cluster'] = kmeans.labels_\n",
        "\n",
        "# Display the first few rows to see the assigned cluster\n",
        "df_combined.head()"
      ],
      "metadata": {
        "colab": {
          "base_uri": "https://localhost:8080/",
          "height": 226
        },
        "id": "9BD3niflVZCJ",
        "outputId": "3813581e-4965-4c6c-ad19-eef0b283ca47"
      },
      "execution_count": null,
      "outputs": [
        {
          "output_type": "execute_result",
          "data": {
            "text/plain": [
              "                EmployeeName        BasePay   OvertimePay       OtherPay  \\\n",
              "110531           David Shinn  129150.007812      0.000000  342802.625000   \n",
              "110532            Amy P Hart  318835.500000  10712.950195   60563.539062   \n",
              "110533  William J Coaker Jr.  257340.000000      0.000000   82313.703125   \n",
              "110534        Gregory P Suhr  307450.031250      0.000000   19266.720703   \n",
              "110535  Joanne M Hayes-White  302068.000000      0.000000   24165.439453   \n",
              "\n",
              "            Benefits      TotalPay  TotalPayBenefits  Year  Status  \\\n",
              "110531  38780.039062  471952.62500      510732.68750  2014       0   \n",
              "110532  89540.226562  390111.96875      479652.21875  2014       1   \n",
              "110533  96570.656250  339653.68750      436224.37500  2014       0   \n",
              "110534  91302.460938  326716.75000      418019.21875  2014       1   \n",
              "110535  91201.656250  326233.43750      417435.09375  2014       1   \n",
              "\n",
              "        Department  DepartmentGroup  Cluster  \n",
              "110531       Chief   Administration        3  \n",
              "110532    Examiner  Law Enforcement        3  \n",
              "110533     Officer  Law Enforcement        3  \n",
              "110534      Police  Law Enforcement        2  \n",
              "110535  Department   Administration        2  "
            ],
            "text/html": [
              "\n",
              "  <div id=\"df-74590185-f385-444e-8c52-aee0dd25eea5\" class=\"colab-df-container\">\n",
              "    <div>\n",
              "<style scoped>\n",
              "    .dataframe tbody tr th:only-of-type {\n",
              "        vertical-align: middle;\n",
              "    }\n",
              "\n",
              "    .dataframe tbody tr th {\n",
              "        vertical-align: top;\n",
              "    }\n",
              "\n",
              "    .dataframe thead th {\n",
              "        text-align: right;\n",
              "    }\n",
              "</style>\n",
              "<table border=\"1\" class=\"dataframe\">\n",
              "  <thead>\n",
              "    <tr style=\"text-align: right;\">\n",
              "      <th></th>\n",
              "      <th>EmployeeName</th>\n",
              "      <th>BasePay</th>\n",
              "      <th>OvertimePay</th>\n",
              "      <th>OtherPay</th>\n",
              "      <th>Benefits</th>\n",
              "      <th>TotalPay</th>\n",
              "      <th>TotalPayBenefits</th>\n",
              "      <th>Year</th>\n",
              "      <th>Status</th>\n",
              "      <th>Department</th>\n",
              "      <th>DepartmentGroup</th>\n",
              "      <th>Cluster</th>\n",
              "    </tr>\n",
              "  </thead>\n",
              "  <tbody>\n",
              "    <tr>\n",
              "      <th>110531</th>\n",
              "      <td>David Shinn</td>\n",
              "      <td>129150.007812</td>\n",
              "      <td>0.000000</td>\n",
              "      <td>342802.625000</td>\n",
              "      <td>38780.039062</td>\n",
              "      <td>471952.62500</td>\n",
              "      <td>510732.68750</td>\n",
              "      <td>2014</td>\n",
              "      <td>0</td>\n",
              "      <td>Chief</td>\n",
              "      <td>Administration</td>\n",
              "      <td>3</td>\n",
              "    </tr>\n",
              "    <tr>\n",
              "      <th>110532</th>\n",
              "      <td>Amy P Hart</td>\n",
              "      <td>318835.500000</td>\n",
              "      <td>10712.950195</td>\n",
              "      <td>60563.539062</td>\n",
              "      <td>89540.226562</td>\n",
              "      <td>390111.96875</td>\n",
              "      <td>479652.21875</td>\n",
              "      <td>2014</td>\n",
              "      <td>1</td>\n",
              "      <td>Examiner</td>\n",
              "      <td>Law Enforcement</td>\n",
              "      <td>3</td>\n",
              "    </tr>\n",
              "    <tr>\n",
              "      <th>110533</th>\n",
              "      <td>William J Coaker Jr.</td>\n",
              "      <td>257340.000000</td>\n",
              "      <td>0.000000</td>\n",
              "      <td>82313.703125</td>\n",
              "      <td>96570.656250</td>\n",
              "      <td>339653.68750</td>\n",
              "      <td>436224.37500</td>\n",
              "      <td>2014</td>\n",
              "      <td>0</td>\n",
              "      <td>Officer</td>\n",
              "      <td>Law Enforcement</td>\n",
              "      <td>3</td>\n",
              "    </tr>\n",
              "    <tr>\n",
              "      <th>110534</th>\n",
              "      <td>Gregory P Suhr</td>\n",
              "      <td>307450.031250</td>\n",
              "      <td>0.000000</td>\n",
              "      <td>19266.720703</td>\n",
              "      <td>91302.460938</td>\n",
              "      <td>326716.75000</td>\n",
              "      <td>418019.21875</td>\n",
              "      <td>2014</td>\n",
              "      <td>1</td>\n",
              "      <td>Police</td>\n",
              "      <td>Law Enforcement</td>\n",
              "      <td>2</td>\n",
              "    </tr>\n",
              "    <tr>\n",
              "      <th>110535</th>\n",
              "      <td>Joanne M Hayes-White</td>\n",
              "      <td>302068.000000</td>\n",
              "      <td>0.000000</td>\n",
              "      <td>24165.439453</td>\n",
              "      <td>91201.656250</td>\n",
              "      <td>326233.43750</td>\n",
              "      <td>417435.09375</td>\n",
              "      <td>2014</td>\n",
              "      <td>1</td>\n",
              "      <td>Department</td>\n",
              "      <td>Administration</td>\n",
              "      <td>2</td>\n",
              "    </tr>\n",
              "  </tbody>\n",
              "</table>\n",
              "</div>\n",
              "    <div class=\"colab-df-buttons\">\n",
              "\n",
              "  <div class=\"colab-df-container\">\n",
              "    <button class=\"colab-df-convert\" onclick=\"convertToInteractive('df-74590185-f385-444e-8c52-aee0dd25eea5')\"\n",
              "            title=\"Convert this dataframe to an interactive table.\"\n",
              "            style=\"display:none;\">\n",
              "\n",
              "  <svg xmlns=\"http://www.w3.org/2000/svg\" height=\"24px\" viewBox=\"0 -960 960 960\">\n",
              "    <path d=\"M120-120v-720h720v720H120Zm60-500h600v-160H180v160Zm220 220h160v-160H400v160Zm0 220h160v-160H400v160ZM180-400h160v-160H180v160Zm440 0h160v-160H620v160ZM180-180h160v-160H180v160Zm440 0h160v-160H620v160Z\"/>\n",
              "  </svg>\n",
              "    </button>\n",
              "\n",
              "  <style>\n",
              "    .colab-df-container {\n",
              "      display:flex;\n",
              "      gap: 12px;\n",
              "    }\n",
              "\n",
              "    .colab-df-convert {\n",
              "      background-color: #E8F0FE;\n",
              "      border: none;\n",
              "      border-radius: 50%;\n",
              "      cursor: pointer;\n",
              "      display: none;\n",
              "      fill: #1967D2;\n",
              "      height: 32px;\n",
              "      padding: 0 0 0 0;\n",
              "      width: 32px;\n",
              "    }\n",
              "\n",
              "    .colab-df-convert:hover {\n",
              "      background-color: #E2EBFA;\n",
              "      box-shadow: 0px 1px 2px rgba(60, 64, 67, 0.3), 0px 1px 3px 1px rgba(60, 64, 67, 0.15);\n",
              "      fill: #174EA6;\n",
              "    }\n",
              "\n",
              "    .colab-df-buttons div {\n",
              "      margin-bottom: 4px;\n",
              "    }\n",
              "\n",
              "    [theme=dark] .colab-df-convert {\n",
              "      background-color: #3B4455;\n",
              "      fill: #D2E3FC;\n",
              "    }\n",
              "\n",
              "    [theme=dark] .colab-df-convert:hover {\n",
              "      background-color: #434B5C;\n",
              "      box-shadow: 0px 1px 3px 1px rgba(0, 0, 0, 0.15);\n",
              "      filter: drop-shadow(0px 1px 2px rgba(0, 0, 0, 0.3));\n",
              "      fill: #FFFFFF;\n",
              "    }\n",
              "  </style>\n",
              "\n",
              "    <script>\n",
              "      const buttonEl =\n",
              "        document.querySelector('#df-74590185-f385-444e-8c52-aee0dd25eea5 button.colab-df-convert');\n",
              "      buttonEl.style.display =\n",
              "        google.colab.kernel.accessAllowed ? 'block' : 'none';\n",
              "\n",
              "      async function convertToInteractive(key) {\n",
              "        const element = document.querySelector('#df-74590185-f385-444e-8c52-aee0dd25eea5');\n",
              "        const dataTable =\n",
              "          await google.colab.kernel.invokeFunction('convertToInteractive',\n",
              "                                                    [key], {});\n",
              "        if (!dataTable) return;\n",
              "\n",
              "        const docLinkHtml = 'Like what you see? Visit the ' +\n",
              "          '<a target=\"_blank\" href=https://colab.research.google.com/notebooks/data_table.ipynb>data table notebook</a>'\n",
              "          + ' to learn more about interactive tables.';\n",
              "        element.innerHTML = '';\n",
              "        dataTable['output_type'] = 'display_data';\n",
              "        await google.colab.output.renderOutput(dataTable, element);\n",
              "        const docLink = document.createElement('div');\n",
              "        docLink.innerHTML = docLinkHtml;\n",
              "        element.appendChild(docLink);\n",
              "      }\n",
              "    </script>\n",
              "  </div>\n",
              "\n",
              "\n",
              "<div id=\"df-63418a38-2e18-4f6c-abd1-d50fcf3ec508\">\n",
              "  <button class=\"colab-df-quickchart\" onclick=\"quickchart('df-63418a38-2e18-4f6c-abd1-d50fcf3ec508')\"\n",
              "            title=\"Suggest charts\"\n",
              "            style=\"display:none;\">\n",
              "\n",
              "<svg xmlns=\"http://www.w3.org/2000/svg\" height=\"24px\"viewBox=\"0 0 24 24\"\n",
              "     width=\"24px\">\n",
              "    <g>\n",
              "        <path d=\"M19 3H5c-1.1 0-2 .9-2 2v14c0 1.1.9 2 2 2h14c1.1 0 2-.9 2-2V5c0-1.1-.9-2-2-2zM9 17H7v-7h2v7zm4 0h-2V7h2v10zm4 0h-2v-4h2v4z\"/>\n",
              "    </g>\n",
              "</svg>\n",
              "  </button>\n",
              "\n",
              "<style>\n",
              "  .colab-df-quickchart {\n",
              "      --bg-color: #E8F0FE;\n",
              "      --fill-color: #1967D2;\n",
              "      --hover-bg-color: #E2EBFA;\n",
              "      --hover-fill-color: #174EA6;\n",
              "      --disabled-fill-color: #AAA;\n",
              "      --disabled-bg-color: #DDD;\n",
              "  }\n",
              "\n",
              "  [theme=dark] .colab-df-quickchart {\n",
              "      --bg-color: #3B4455;\n",
              "      --fill-color: #D2E3FC;\n",
              "      --hover-bg-color: #434B5C;\n",
              "      --hover-fill-color: #FFFFFF;\n",
              "      --disabled-bg-color: #3B4455;\n",
              "      --disabled-fill-color: #666;\n",
              "  }\n",
              "\n",
              "  .colab-df-quickchart {\n",
              "    background-color: var(--bg-color);\n",
              "    border: none;\n",
              "    border-radius: 50%;\n",
              "    cursor: pointer;\n",
              "    display: none;\n",
              "    fill: var(--fill-color);\n",
              "    height: 32px;\n",
              "    padding: 0;\n",
              "    width: 32px;\n",
              "  }\n",
              "\n",
              "  .colab-df-quickchart:hover {\n",
              "    background-color: var(--hover-bg-color);\n",
              "    box-shadow: 0 1px 2px rgba(60, 64, 67, 0.3), 0 1px 3px 1px rgba(60, 64, 67, 0.15);\n",
              "    fill: var(--button-hover-fill-color);\n",
              "  }\n",
              "\n",
              "  .colab-df-quickchart-complete:disabled,\n",
              "  .colab-df-quickchart-complete:disabled:hover {\n",
              "    background-color: var(--disabled-bg-color);\n",
              "    fill: var(--disabled-fill-color);\n",
              "    box-shadow: none;\n",
              "  }\n",
              "\n",
              "  .colab-df-spinner {\n",
              "    border: 2px solid var(--fill-color);\n",
              "    border-color: transparent;\n",
              "    border-bottom-color: var(--fill-color);\n",
              "    animation:\n",
              "      spin 1s steps(1) infinite;\n",
              "  }\n",
              "\n",
              "  @keyframes spin {\n",
              "    0% {\n",
              "      border-color: transparent;\n",
              "      border-bottom-color: var(--fill-color);\n",
              "      border-left-color: var(--fill-color);\n",
              "    }\n",
              "    20% {\n",
              "      border-color: transparent;\n",
              "      border-left-color: var(--fill-color);\n",
              "      border-top-color: var(--fill-color);\n",
              "    }\n",
              "    30% {\n",
              "      border-color: transparent;\n",
              "      border-left-color: var(--fill-color);\n",
              "      border-top-color: var(--fill-color);\n",
              "      border-right-color: var(--fill-color);\n",
              "    }\n",
              "    40% {\n",
              "      border-color: transparent;\n",
              "      border-right-color: var(--fill-color);\n",
              "      border-top-color: var(--fill-color);\n",
              "    }\n",
              "    60% {\n",
              "      border-color: transparent;\n",
              "      border-right-color: var(--fill-color);\n",
              "    }\n",
              "    80% {\n",
              "      border-color: transparent;\n",
              "      border-right-color: var(--fill-color);\n",
              "      border-bottom-color: var(--fill-color);\n",
              "    }\n",
              "    90% {\n",
              "      border-color: transparent;\n",
              "      border-bottom-color: var(--fill-color);\n",
              "    }\n",
              "  }\n",
              "</style>\n",
              "\n",
              "  <script>\n",
              "    async function quickchart(key) {\n",
              "      const quickchartButtonEl =\n",
              "        document.querySelector('#' + key + ' button');\n",
              "      quickchartButtonEl.disabled = true;  // To prevent multiple clicks.\n",
              "      quickchartButtonEl.classList.add('colab-df-spinner');\n",
              "      try {\n",
              "        const charts = await google.colab.kernel.invokeFunction(\n",
              "            'suggestCharts', [key], {});\n",
              "      } catch (error) {\n",
              "        console.error('Error during call to suggestCharts:', error);\n",
              "      }\n",
              "      quickchartButtonEl.classList.remove('colab-df-spinner');\n",
              "      quickchartButtonEl.classList.add('colab-df-quickchart-complete');\n",
              "    }\n",
              "    (() => {\n",
              "      let quickchartButtonEl =\n",
              "        document.querySelector('#df-63418a38-2e18-4f6c-abd1-d50fcf3ec508 button');\n",
              "      quickchartButtonEl.style.display =\n",
              "        google.colab.kernel.accessAllowed ? 'block' : 'none';\n",
              "    })();\n",
              "  </script>\n",
              "</div>\n",
              "\n",
              "    </div>\n",
              "  </div>\n"
            ],
            "application/vnd.google.colaboratory.intrinsic+json": {
              "type": "dataframe",
              "variable_name": "df_combined",
              "summary": "{\n  \"name\": \"df_combined\",\n  \"rows\": 38119,\n  \"fields\": [\n    {\n      \"column\": \"EmployeeName\",\n      \"properties\": {\n        \"dtype\": \"string\",\n        \"num_unique_values\": 36683,\n        \"samples\": [\n          \"Reisel K Berger\",\n          \"Olive Gong\",\n          \"Carlos M Duharte\"\n        ],\n        \"semantic_type\": \"\",\n        \"description\": \"\"\n      }\n    },\n    {\n      \"column\": \"BasePay\",\n      \"properties\": {\n        \"dtype\": \"float32\",\n        \"num_unique_values\": 28076,\n        \"samples\": [\n          27642.609375,\n          85887.0234375,\n          74577.828125\n        ],\n        \"semantic_type\": \"\",\n        \"description\": \"\"\n      }\n    },\n    {\n      \"column\": \"OvertimePay\",\n      \"properties\": {\n        \"dtype\": \"float32\",\n        \"num_unique_values\": 17918,\n        \"samples\": [\n          3907.590087890625,\n          22781.73046875,\n          3848.39990234375\n        ],\n        \"semantic_type\": \"\",\n        \"description\": \"\"\n      }\n    },\n    {\n      \"column\": \"OtherPay\",\n      \"properties\": {\n        \"dtype\": \"float32\",\n        \"num_unique_values\": 22315,\n        \"samples\": [\n          3332.419921875,\n          8878.2900390625,\n          1855.1500244140625\n        ],\n        \"semantic_type\": \"\",\n        \"description\": \"\"\n      }\n    },\n    {\n      \"column\": \"Benefits\",\n      \"properties\": {\n        \"dtype\": \"float32\",\n        \"num_unique_values\": 32684,\n        \"samples\": [\n          252.5399932861328,\n          3018.929931640625,\n          30433.650390625\n        ],\n        \"semantic_type\": \"\",\n        \"description\": \"\"\n      }\n    },\n    {\n      \"column\": \"TotalPay\",\n      \"properties\": {\n        \"dtype\": \"float32\",\n        \"num_unique_values\": 35666,\n        \"samples\": [\n          92553.0703125,\n          104202.9921875,\n          28285.970703125\n        ],\n        \"semantic_type\": \"\",\n        \"description\": \"\"\n      }\n    },\n    {\n      \"column\": \"TotalPayBenefits\",\n      \"properties\": {\n        \"dtype\": \"float32\",\n        \"num_unique_values\": 36267,\n        \"samples\": [\n          37579.28125,\n          49258.328125,\n          211.57000732421875\n        ],\n        \"semantic_type\": \"\",\n        \"description\": \"\"\n      }\n    },\n    {\n      \"column\": \"Year\",\n      \"properties\": {\n        \"dtype\": \"number\",\n        \"std\": 0,\n        \"min\": 2014,\n        \"max\": 2014,\n        \"num_unique_values\": 1,\n        \"samples\": [\n          2014\n        ],\n        \"semantic_type\": \"\",\n        \"description\": \"\"\n      }\n    },\n    {\n      \"column\": \"Status\",\n      \"properties\": {\n        \"dtype\": \"number\",\n        \"std\": 0,\n        \"min\": 0,\n        \"max\": 1,\n        \"num_unique_values\": 2,\n        \"samples\": [\n          1\n        ],\n        \"semantic_type\": \"\",\n        \"description\": \"\"\n      }\n    },\n    {\n      \"column\": \"Department\",\n      \"properties\": {\n        \"dtype\": \"category\",\n        \"num_unique_values\": 278,\n        \"samples\": [\n          \"EMT/Paramedic/Firefighter\"\n        ],\n        \"semantic_type\": \"\",\n        \"description\": \"\"\n      }\n    },\n    {\n      \"column\": \"DepartmentGroup\",\n      \"properties\": {\n        \"dtype\": \"category\",\n        \"num_unique_values\": 10,\n        \"samples\": [\n          \"Education\"\n        ],\n        \"semantic_type\": \"\",\n        \"description\": \"\"\n      }\n    },\n    {\n      \"column\": \"Cluster\",\n      \"properties\": {\n        \"dtype\": \"int32\",\n        \"num_unique_values\": 4,\n        \"samples\": [\n          2\n        ],\n        \"semantic_type\": \"\",\n        \"description\": \"\"\n      }\n    }\n  ]\n}"
            }
          },
          "metadata": {},
          "execution_count": 95
        }
      ]
    },
    {
      "cell_type": "markdown",
      "source": [
        "We want to analyze which features are the most important, so we will measure the centers of each cluster and then inverse the scaling we did earlier so that we can interpret the cluster centers in the original scale."
      ],
      "metadata": {
        "id": "sCu-lKTQVTD-"
      }
    },
    {
      "cell_type": "code",
      "source": [
        "# Get the cluster centers from KMeans\n",
        "cluster_centers = kmeans.cluster_centers_\n",
        "\n",
        "# Reverse the scaling to interpret cluster centers in the original scale\n",
        "original_cluster_centers = scaler.inverse_transform(cluster_centers)\n",
        "\n",
        "# Create a DataFrame to visualize the cluster centers\n",
        "feature_importance_df = pd.DataFrame(original_cluster_centers, columns=numeric_columns)"
      ],
      "metadata": {
        "id": "VoAU8BhKKs6R"
      },
      "execution_count": null,
      "outputs": []
    },
    {
      "cell_type": "markdown",
      "source": [
        "We can then visualize this in a bar chart and a heat map:"
      ],
      "metadata": {
        "id": "zMkGQMZ0UcK_"
      }
    },
    {
      "cell_type": "code",
      "source": [
        "fig, ax = plt.subplots(figsize=(12, 6))\n",
        "\n",
        "# Plot the feature importance for each cluster\n",
        "for i in range(len(cluster_centers)):\n",
        "    ax.bar(np.arange(len(numeric_columns)) + i*0.2, original_cluster_centers[i], width=0.2, label=f'Cluster {i}')\n",
        "\n",
        "# Set labels and legend\n",
        "ax.set_xticks(np.arange(len(numeric_columns)))\n",
        "ax.set_xticklabels(numeric_columns, rotation=45)\n",
        "ax.set_ylabel('Feature Value')\n",
        "ax.set_title('Feature Importance by Cluster')\n",
        "ax.legend()\n",
        "\n",
        "plt.tight_layout()\n",
        "plt.show()"
      ],
      "metadata": {
        "id": "4Dy-YQ2SK5fS",
        "colab": {
          "base_uri": "https://localhost:8080/",
          "height": 627
        },
        "outputId": "5994ee85-9ba9-4db4-9471-113d8ca4fa3f"
      },
      "execution_count": null,
      "outputs": [
        {
          "output_type": "display_data",
          "data": {
            "text/plain": [
              "<Figure size 1200x600 with 1 Axes>"
            ],
            "image/png": "[encoded data removed]"
          },
          "metadata": {}
        }
      ]
    },
    {
      "cell_type": "code",
      "source": [
        "import seaborn as sns\n",
        "\n",
        "# Create a heatmap of the cluster centers\n",
        "plt.figure(figsize=(10, 6))\n",
        "sns.heatmap(feature_importance_df, annot=True, cmap='coolwarm', xticklabels=numeric_columns, yticklabels=[f'Cluster {i}' for i in range(len(cluster_centers))])\n",
        "plt.title('Cluster Centers Heatmap')\n",
        "plt.show()"
      ],
      "metadata": {
        "colab": {
          "base_uri": "https://localhost:8080/",
          "height": 565
        },
        "id": "xdTiS-pLUiTE",
        "outputId": "bd679405-73e6-41f0-e460-3a7baac5fd31"
      },
      "execution_count": null,
      "outputs": [
        {
          "output_type": "display_data",
          "data": {
            "text/plain": [
              "<Figure size 1000x600 with 2 Axes>"
            ],
            "image/png": "[encoded data removed]"
          },
          "metadata": {}
        }
      ]
    },
    {
      "cell_type": "markdown",
      "source": [
        "We definitely can extract some insights from this, but frankly, there's a little too much information here that might be making it hard to cluster the data. We'll use PCA to reduce dimensionality and then analyze the clusters based on the principle components found in the data."
      ],
      "metadata": {
        "id": "q0gjQ6AGU9l4"
      }
    },
    {
      "cell_type": "code",
      "source": [
        "from sklearn.decomposition import PCA\n",
        "\n",
        "# Fit PCA on the scaled data\n",
        "pca = PCA()\n",
        "\n",
        "# Fit and transform the data to PCA space\n",
        "pca_data = pca.fit_transform(scaled_data)\n",
        "\n",
        "# Check explained variance ratio for each component\n",
        "explained_variance = pca.explained_variance_ratio_\n",
        "cumulative_explained_variance = explained_variance.cumsum()\n",
        "\n",
        "print(f\"Explained variance ratio per component: {explained_variance}\")\n",
        "print(f\"Cumulative explained variance: {cumulative_explained_variance}\")\n"
      ],
      "metadata": {
        "colab": {
          "base_uri": "https://localhost:8080/"
        },
        "id": "lxrhhSh7Uxrt",
        "outputId": "ca2c3dcb-adb8-406c-cbec-1993e5b1a4de"
      },
      "execution_count": null,
      "outputs": [
        {
          "output_type": "stream",
          "name": "stdout",
          "text": [
            "Explained variance ratio per component: [7.05549777e-01 1.65562198e-01 1.15070276e-01 1.38177862e-02\n",
            " 3.44061522e-15 6.30890733e-16]\n",
            "Cumulative explained variance: [0.7055498 0.871112  0.9861823 1.        1.        1.       ]\n"
          ]
        }
      ]
    },
    {
      "cell_type": "code",
      "source": [
        "plt.subplot(1, 2, 2)\n",
        "plt.plot(range(1, len(cumulative_explained_variance) + 1), cumulative_explained_variance, marker='o', linestyle='--', color='b', label='Cumulative Explained Variance')\n",
        "plt.xlabel('Number of Components')\n",
        "plt.ylabel('Cumulative Explained Variance')\n",
        "plt.title('Cumulative Explained Variance')\n",
        "plt.grid(True)"
      ],
      "metadata": {
        "colab": {
          "base_uri": "https://localhost:8080/",
          "height": 492
        },
        "id": "aM4gyBCWlDkn",
        "outputId": "b6be6978-f454-4e8d-d9f4-f308ff0e7135"
      },
      "execution_count": null,
      "outputs": [
        {
          "output_type": "display_data",
          "data": {
            "text/plain": [
              "<Figure size 640x480 with 1 Axes>"
            ],
            "image/png": "[encoded data removed]"
          },
          "metadata": {}
        }
      ]
    },
    {
      "cell_type": "markdown",
      "source": [
        "We can see from the above cumulative explained variance, as well as the graph visualizing it, that just 2 principal components retain almost 90% of the variance, so we'll just use two."
      ],
      "metadata": {
        "id": "6lHNJdrqlZ9I"
      }
    },
    {
      "cell_type": "code",
      "source": [
        "pca = PCA(n_components=2)\n",
        "pca_data = pca.fit_transform(scaled_data)"
      ],
      "metadata": {
        "id": "rv-LdKW6lXdk"
      },
      "execution_count": null,
      "outputs": []
    },
    {
      "cell_type": "code",
      "source": [
        "# Number of clusters K is still 4\n",
        "# Fit KMeans on the PCA-transformed data\n",
        "kmeans.fit(pca_data)\n",
        "\n",
        "# Get the cluster labels for each data point\n",
        "df_combined['Cluster'] = kmeans.labels_"
      ],
      "metadata": {
        "id": "nH9ELDJblxlZ"
      },
      "execution_count": null,
      "outputs": []
    },
    {
      "cell_type": "code",
      "source": [
        "# Plot the PCA-transformed data with cluster labels\n",
        "plt.figure(figsize=(8, 6))\n",
        "plt.scatter(pca_data[:, 0], pca_data[:, 1], c=df_combined['Cluster'], cmap='viridis')\n",
        "plt.xlabel('Principal Component 1')\n",
        "plt.ylabel('Principal Component 2')\n",
        "plt.title('KMeans Clusters in PCA-Reduced Space')\n",
        "plt.show()"
      ],
      "metadata": {
        "colab": {
          "base_uri": "https://localhost:8080/",
          "height": 584
        },
        "id": "E3xPU36vmAU4",
        "outputId": "ff968f18-9348-407f-e895-f02dcb27a6bc"
      },
      "execution_count": null,
      "outputs": [
        {
          "output_type": "display_data",
          "data": {
            "text/plain": [
              "<Figure size 800x600 with 1 Axes>"
            ],
            "image/png": "[encoded data removed]"
          },
          "metadata": {}
        }
      ]
    },
    {
      "cell_type": "markdown",
      "source": [
        "Since we only have two clusters, it's much easier to visualize and extract information from our clustering, since we can visualize it in just two dimensions. Let's examine the characteristics of each cluster"
      ],
      "metadata": {
        "id": "Esfizmbjm2WE"
      }
    },
    {
      "cell_type": "code",
      "source": [
        "# Separate numeric and categorical columns\n",
        "numeric_columns = df_combined.select_dtypes(include=['float32', 'int64']).columns\n",
        "categorical_columns = df_combined.select_dtypes(include=['object']).columns\n",
        "\n",
        "# For categorical columns, calculate the mode per cluster (drop EmployeeName)\n",
        "categorical_summary = df_combined.groupby('Cluster')[categorical_columns].agg(lambda x: x.mode()[0])\n",
        "# Drop 'EmployeeName' from the categorical columns\n",
        "categorical_columns = categorical_columns.drop('EmployeeName')\n",
        "\n",
        "# Calculate the categorical summary without the 'EmployeeName' column\n",
        "categorical_summary = df_combined.groupby('Cluster')[categorical_columns].agg(lambda x: x.mode()[0])\n",
        "\n",
        "# For numeric columns, calculate the mean per cluster\n",
        "numeric_summary = df_combined.groupby('Cluster')[numeric_columns].mean()\n",
        "\n",
        "# Combine the summaries\n",
        "cluster_summary = pd.concat([numeric_summary, categorical_summary], axis=1)"
      ],
      "metadata": {
        "id": "RstLpGMtmpa2"
      },
      "execution_count": null,
      "outputs": []
    },
    {
      "cell_type": "code",
      "source": [
        "cluster_summary"
      ],
      "metadata": {
        "colab": {
          "base_uri": "https://localhost:8080/",
          "height": 226
        },
        "id": "c4v-HSSJpRiE",
        "outputId": "37c3fd6f-a0b1-4e6a-b305-7a788397fdcc"
      },
      "execution_count": null,
      "outputs": [
        {
          "output_type": "execute_result",
          "data": {
            "text/plain": [
              "               BasePay   OvertimePay      OtherPay      Benefits  \\\n",
              "Cluster                                                            \n",
              "0        112568.250000  37358.722656  20637.875000  40212.808594   \n",
              "1         68284.898438   3726.334229   2016.134644  28407.841797   \n",
              "2        122128.812500   6695.169922   5355.613770  41783.835938   \n",
              "3         14256.174805    408.339996    907.582886   3728.906982   \n",
              "\n",
              "              TotalPay  TotalPayBenefits    Year    Status   Department  \\\n",
              "Cluster                                                                   \n",
              "0        170564.828125     210777.656250  2014.0  0.899255  Firefighter   \n",
              "1         74027.367188     102435.210938  2014.0  0.774266       Worker   \n",
              "2        134179.593750     175963.421875  2014.0  0.898104      Officer   \n",
              "3         15572.097656      19301.005859  2014.0  0.004285        Nurse   \n",
              "\n",
              "         DepartmentGroup  \n",
              "Cluster                   \n",
              "0        Law Enforcement  \n",
              "1         Administration  \n",
              "2        Law Enforcement  \n",
              "3         Administration  "
            ],
            "text/html": [
              "\n",
              "  <div id=\"df-381ef980-6a60-4513-abc5-385f51771ef4\" class=\"colab-df-container\">\n",
              "    <div>\n",
              "<style scoped>\n",
              "    .dataframe tbody tr th:only-of-type {\n",
              "        vertical-align: middle;\n",
              "    }\n",
              "\n",
              "    .dataframe tbody tr th {\n",
              "        vertical-align: top;\n",
              "    }\n",
              "\n",
              "    .dataframe thead th {\n",
              "        text-align: right;\n",
              "    }\n",
              "</style>\n",
              "<table border=\"1\" class=\"dataframe\">\n",
              "  <thead>\n",
              "    <tr style=\"text-align: right;\">\n",
              "      <th></th>\n",
              "      <th>BasePay</th>\n",
              "      <th>OvertimePay</th>\n",
              "      <th>OtherPay</th>\n",
              "      <th>Benefits</th>\n",
              "      <th>TotalPay</th>\n",
              "      <th>TotalPayBenefits</th>\n",
              "      <th>Year</th>\n",
              "      <th>Status</th>\n",
              "      <th>Department</th>\n",
              "      <th>DepartmentGroup</th>\n",
              "    </tr>\n",
              "    <tr>\n",
              "      <th>Cluster</th>\n",
              "      <th></th>\n",
              "      <th></th>\n",
              "      <th></th>\n",
              "      <th></th>\n",
              "      <th></th>\n",
              "      <th></th>\n",
              "      <th></th>\n",
              "      <th></th>\n",
              "      <th></th>\n",
              "      <th></th>\n",
              "    </tr>\n",
              "  </thead>\n",
              "  <tbody>\n",
              "    <tr>\n",
              "      <th>0</th>\n",
              "      <td>112568.250000</td>\n",
              "      <td>37358.722656</td>\n",
              "      <td>20637.875000</td>\n",
              "      <td>40212.808594</td>\n",
              "      <td>170564.828125</td>\n",
              "      <td>210777.656250</td>\n",
              "      <td>2014.0</td>\n",
              "      <td>0.899255</td>\n",
              "      <td>Firefighter</td>\n",
              "      <td>Law Enforcement</td>\n",
              "    </tr>\n",
              "    <tr>\n",
              "      <th>1</th>\n",
              "      <td>68284.898438</td>\n",
              "      <td>3726.334229</td>\n",
              "      <td>2016.134644</td>\n",
              "      <td>28407.841797</td>\n",
              "      <td>74027.367188</td>\n",
              "      <td>102435.210938</td>\n",
              "      <td>2014.0</td>\n",
              "      <td>0.774266</td>\n",
              "      <td>Worker</td>\n",
              "      <td>Administration</td>\n",
              "    </tr>\n",
              "    <tr>\n",
              "      <th>2</th>\n",
              "      <td>122128.812500</td>\n",
              "      <td>6695.169922</td>\n",
              "      <td>5355.613770</td>\n",
              "      <td>41783.835938</td>\n",
              "      <td>134179.593750</td>\n",
              "      <td>175963.421875</td>\n",
              "      <td>2014.0</td>\n",
              "      <td>0.898104</td>\n",
              "      <td>Officer</td>\n",
              "      <td>Law Enforcement</td>\n",
              "    </tr>\n",
              "    <tr>\n",
              "      <th>3</th>\n",
              "      <td>14256.174805</td>\n",
              "      <td>408.339996</td>\n",
              "      <td>907.582886</td>\n",
              "      <td>3728.906982</td>\n",
              "      <td>15572.097656</td>\n",
              "      <td>19301.005859</td>\n",
              "      <td>2014.0</td>\n",
              "      <td>0.004285</td>\n",
              "      <td>Nurse</td>\n",
              "      <td>Administration</td>\n",
              "    </tr>\n",
              "  </tbody>\n",
              "</table>\n",
              "</div>\n",
              "    <div class=\"colab-df-buttons\">\n",
              "\n",
              "  <div class=\"colab-df-container\">\n",
              "    <button class=\"colab-df-convert\" onclick=\"convertToInteractive('df-381ef980-6a60-4513-abc5-385f51771ef4')\"\n",
              "            title=\"Convert this dataframe to an interactive table.\"\n",
              "            style=\"display:none;\">\n",
              "\n",
              "  <svg xmlns=\"http://www.w3.org/2000/svg\" height=\"24px\" viewBox=\"0 -960 960 960\">\n",
              "    <path d=\"M120-120v-720h720v720H120Zm60-500h600v-160H180v160Zm220 220h160v-160H400v160Zm0 220h160v-160H400v160ZM180-400h160v-160H180v160Zm440 0h160v-160H620v160ZM180-180h160v-160H180v160Zm440 0h160v-160H620v160Z\"/>\n",
              "  </svg>\n",
              "    </button>\n",
              "\n",
              "  <style>\n",
              "    .colab-df-container {\n",
              "      display:flex;\n",
              "      gap: 12px;\n",
              "    }\n",
              "\n",
              "    .colab-df-convert {\n",
              "      background-color: #E8F0FE;\n",
              "      border: none;\n",
              "      border-radius: 50%;\n",
              "      cursor: pointer;\n",
              "      display: none;\n",
              "      fill: #1967D2;\n",
              "      height: 32px;\n",
              "      padding: 0 0 0 0;\n",
              "      width: 32px;\n",
              "    }\n",
              "\n",
              "    .colab-df-convert:hover {\n",
              "      background-color: #E2EBFA;\n",
              "      box-shadow: 0px 1px 2px rgba(60, 64, 67, 0.3), 0px 1px 3px 1px rgba(60, 64, 67, 0.15);\n",
              "      fill: #174EA6;\n",
              "    }\n",
              "\n",
              "    .colab-df-buttons div {\n",
              "      margin-bottom: 4px;\n",
              "    }\n",
              "\n",
              "    [theme=dark] .colab-df-convert {\n",
              "      background-color: #3B4455;\n",
              "      fill: #D2E3FC;\n",
              "    }\n",
              "\n",
              "    [theme=dark] .colab-df-convert:hover {\n",
              "      background-color: #434B5C;\n",
              "      box-shadow: 0px 1px 3px 1px rgba(0, 0, 0, 0.15);\n",
              "      filter: drop-shadow(0px 1px 2px rgba(0, 0, 0, 0.3));\n",
              "      fill: #FFFFFF;\n",
              "    }\n",
              "  </style>\n",
              "\n",
              "    <script>\n",
              "      const buttonEl =\n",
              "        document.querySelector('#df-381ef980-6a60-4513-abc5-385f51771ef4 button.colab-df-convert');\n",
              "      buttonEl.style.display =\n",
              "        google.colab.kernel.accessAllowed ? 'block' : 'none';\n",
              "\n",
              "      async function convertToInteractive(key) {\n",
              "        const element = document.querySelector('#df-381ef980-6a60-4513-abc5-385f51771ef4');\n",
              "        const dataTable =\n",
              "          await google.colab.kernel.invokeFunction('convertToInteractive',\n",
              "                                                    [key], {});\n",
              "        if (!dataTable) return;\n",
              "\n",
              "        const docLinkHtml = 'Like what you see? Visit the ' +\n",
              "          '<a target=\"_blank\" href=https://colab.research.google.com/notebooks/data_table.ipynb>data table notebook</a>'\n",
              "          + ' to learn more about interactive tables.';\n",
              "        element.innerHTML = '';\n",
              "        dataTable['output_type'] = 'display_data';\n",
              "        await google.colab.output.renderOutput(dataTable, element);\n",
              "        const docLink = document.createElement('div');\n",
              "        docLink.innerHTML = docLinkHtml;\n",
              "        element.appendChild(docLink);\n",
              "      }\n",
              "    </script>\n",
              "  </div>\n",
              "\n",
              "\n",
              "<div id=\"df-6d2a6df9-de6c-484c-b85d-58c9eb3e948a\">\n",
              "  <button class=\"colab-df-quickchart\" onclick=\"quickchart('df-6d2a6df9-de6c-484c-b85d-58c9eb3e948a')\"\n",
              "            title=\"Suggest charts\"\n",
              "            style=\"display:none;\">\n",
              "\n",
              "<svg xmlns=\"http://www.w3.org/2000/svg\" height=\"24px\"viewBox=\"0 0 24 24\"\n",
              "     width=\"24px\">\n",
              "    <g>\n",
              "        <path d=\"M19 3H5c-1.1 0-2 .9-2 2v14c0 1.1.9 2 2 2h14c1.1 0 2-.9 2-2V5c0-1.1-.9-2-2-2zM9 17H7v-7h2v7zm4 0h-2V7h2v10zm4 0h-2v-4h2v4z\"/>\n",
              "    </g>\n",
              "</svg>\n",
              "  </button>\n",
              "\n",
              "<style>\n",
              "  .colab-df-quickchart {\n",
              "      --bg-color: #E8F0FE;\n",
              "      --fill-color: #1967D2;\n",
              "      --hover-bg-color: #E2EBFA;\n",
              "      --hover-fill-color: #174EA6;\n",
              "      --disabled-fill-color: #AAA;\n",
              "      --disabled-bg-color: #DDD;\n",
              "  }\n",
              "\n",
              "  [theme=dark] .colab-df-quickchart {\n",
              "      --bg-color: #3B4455;\n",
              "      --fill-color: #D2E3FC;\n",
              "      --hover-bg-color: #434B5C;\n",
              "      --hover-fill-color: #FFFFFF;\n",
              "      --disabled-bg-color: #3B4455;\n",
              "      --disabled-fill-color: #666;\n",
              "  }\n",
              "\n",
              "  .colab-df-quickchart {\n",
              "    background-color: var(--bg-color);\n",
              "    border: none;\n",
              "    border-radius: 50%;\n",
              "    cursor: pointer;\n",
              "    display: none;\n",
              "    fill: var(--fill-color);\n",
              "    height: 32px;\n",
              "    padding: 0;\n",
              "    width: 32px;\n",
              "  }\n",
              "\n",
              "  .colab-df-quickchart:hover {\n",
              "    background-color: var(--hover-bg-color);\n",
              "    box-shadow: 0 1px 2px rgba(60, 64, 67, 0.3), 0 1px 3px 1px rgba(60, 64, 67, 0.15);\n",
              "    fill: var(--button-hover-fill-color);\n",
              "  }\n",
              "\n",
              "  .colab-df-quickchart-complete:disabled,\n",
              "  .colab-df-quickchart-complete:disabled:hover {\n",
              "    background-color: var(--disabled-bg-color);\n",
              "    fill: var(--disabled-fill-color);\n",
              "    box-shadow: none;\n",
              "  }\n",
              "\n",
              "  .colab-df-spinner {\n",
              "    border: 2px solid var(--fill-color);\n",
              "    border-color: transparent;\n",
              "    border-bottom-color: var(--fill-color);\n",
              "    animation:\n",
              "      spin 1s steps(1) infinite;\n",
              "  }\n",
              "\n",
              "  @keyframes spin {\n",
              "    0% {\n",
              "      border-color: transparent;\n",
              "      border-bottom-color: var(--fill-color);\n",
              "      border-left-color: var(--fill-color);\n",
              "    }\n",
              "    20% {\n",
              "      border-color: transparent;\n",
              "      border-left-color: var(--fill-color);\n",
              "      border-top-color: var(--fill-color);\n",
              "    }\n",
              "    30% {\n",
              "      border-color: transparent;\n",
              "      border-left-color: var(--fill-color);\n",
              "      border-top-color: var(--fill-color);\n",
              "      border-right-color: var(--fill-color);\n",
              "    }\n",
              "    40% {\n",
              "      border-color: transparent;\n",
              "      border-right-color: var(--fill-color);\n",
              "      border-top-color: var(--fill-color);\n",
              "    }\n",
              "    60% {\n",
              "      border-color: transparent;\n",
              "      border-right-color: var(--fill-color);\n",
              "    }\n",
              "    80% {\n",
              "      border-color: transparent;\n",
              "      border-right-color: var(--fill-color);\n",
              "      border-bottom-color: var(--fill-color);\n",
              "    }\n",
              "    90% {\n",
              "      border-color: transparent;\n",
              "      border-bottom-color: var(--fill-color);\n",
              "    }\n",
              "  }\n",
              "</style>\n",
              "\n",
              "  <script>\n",
              "    async function quickchart(key) {\n",
              "      const quickchartButtonEl =\n",
              "        document.querySelector('#' + key + ' button');\n",
              "      quickchartButtonEl.disabled = true;  // To prevent multiple clicks.\n",
              "      quickchartButtonEl.classList.add('colab-df-spinner');\n",
              "      try {\n",
              "        const charts = await google.colab.kernel.invokeFunction(\n",
              "            'suggestCharts', [key], {});\n",
              "      } catch (error) {\n",
              "        console.error('Error during call to suggestCharts:', error);\n",
              "      }\n",
              "      quickchartButtonEl.classList.remove('colab-df-spinner');\n",
              "      quickchartButtonEl.classList.add('colab-df-quickchart-complete');\n",
              "    }\n",
              "    (() => {\n",
              "      let quickchartButtonEl =\n",
              "        document.querySelector('#df-6d2a6df9-de6c-484c-b85d-58c9eb3e948a button');\n",
              "      quickchartButtonEl.style.display =\n",
              "        google.colab.kernel.accessAllowed ? 'block' : 'none';\n",
              "    })();\n",
              "  </script>\n",
              "</div>\n",
              "\n",
              "  <div id=\"id_99e1eba0-58ee-4783-9490-4c21cdfc17b4\">\n",
              "    <style>\n",
              "      .colab-df-generate {\n",
              "        background-color: #E8F0FE;\n",
              "        border: none;\n",
              "        border-radius: 50%;\n",
              "        cursor: pointer;\n",
              "        display: none;\n",
              "        fill: #1967D2;\n",
              "        height: 32px;\n",
              "        padding: 0 0 0 0;\n",
              "        width: 32px;\n",
              "      }\n",
              "\n",
              "      .colab-df-generate:hover {\n",
              "        background-color: #E2EBFA;\n",
              "        box-shadow: 0px 1px 2px rgba(60, 64, 67, 0.3), 0px 1px 3px 1px rgba(60, 64, 67, 0.15);\n",
              "        fill: #174EA6;\n",
              "      }\n",
              "\n",
              "      [theme=dark] .colab-df-generate {\n",
              "        background-color: #3B4455;\n",
              "        fill: #D2E3FC;\n",
              "      }\n",
              "\n",
              "      [theme=dark] .colab-df-generate:hover {\n",
              "        background-color: #434B5C;\n",
              "        box-shadow: 0px 1px 3px 1px rgba(0, 0, 0, 0.15);\n",
              "        filter: drop-shadow(0px 1px 2px rgba(0, 0, 0, 0.3));\n",
              "        fill: #FFFFFF;\n",
              "      }\n",
              "    </style>\n",
              "    <button class=\"colab-df-generate\" onclick=\"generateWithVariable('cluster_summary')\"\n",
              "            title=\"Generate code using this dataframe.\"\n",
              "            style=\"display:none;\">\n",
              "\n",
              "  <svg xmlns=\"http://www.w3.org/2000/svg\" height=\"24px\"viewBox=\"0 0 24 24\"\n",
              "       width=\"24px\">\n",
              "    <path d=\"M7,19H8.4L18.45,9,17,7.55,7,17.6ZM5,21V16.75L18.45,3.32a2,2,0,0,1,2.83,0l1.4,1.43a1.91,1.91,0,0,1,.58,1.4,1.91,1.91,0,0,1-.58,1.4L9.25,21ZM18.45,9,17,7.55Zm-12,3A5.31,5.31,0,0,0,4.9,8.1,5.31,5.31,0,0,0,1,6.5,5.31,5.31,0,0,0,4.9,4.9,5.31,5.31,0,0,0,6.5,1,5.31,5.31,0,0,0,8.1,4.9,5.31,5.31,0,0,0,12,6.5,5.46,5.46,0,0,0,6.5,12Z\"/>\n",
              "  </svg>\n",
              "    </button>\n",
              "    <script>\n",
              "      (() => {\n",
              "      const buttonEl =\n",
              "        document.querySelector('#id_99e1eba0-58ee-4783-9490-4c21cdfc17b4 button.colab-df-generate');\n",
              "      buttonEl.style.display =\n",
              "        google.colab.kernel.accessAllowed ? 'block' : 'none';\n",
              "\n",
              "      buttonEl.onclick = () => {\n",
              "        google.colab.notebook.generateWithVariable('cluster_summary');\n",
              "      }\n",
              "      })();\n",
              "    </script>\n",
              "  </div>\n",
              "\n",
              "    </div>\n",
              "  </div>\n"
            ],
            "application/vnd.google.colaboratory.intrinsic+json": {
              "type": "dataframe",
              "variable_name": "cluster_summary",
              "summary": "{\n  \"name\": \"cluster_summary\",\n  \"rows\": 4,\n  \"fields\": [\n    {\n      \"column\": \"Cluster\",\n      \"properties\": {\n        \"dtype\": \"int32\",\n        \"num_unique_values\": 4,\n        \"samples\": [\n          1,\n          3,\n          0\n        ],\n        \"semantic_type\": \"\",\n        \"description\": \"\"\n      }\n    },\n    {\n      \"column\": \"BasePay\",\n      \"properties\": {\n        \"dtype\": \"float32\",\n        \"num_unique_values\": 4,\n        \"samples\": [\n          68284.8984375,\n          14256.1748046875,\n          112568.25\n        ],\n        \"semantic_type\": \"\",\n        \"description\": \"\"\n      }\n    },\n    {\n      \"column\": \"OvertimePay\",\n      \"properties\": {\n        \"dtype\": \"float32\",\n        \"num_unique_values\": 4,\n        \"samples\": [\n          3726.334228515625,\n          408.3399963378906,\n          37358.72265625\n        ],\n        \"semantic_type\": \"\",\n        \"description\": \"\"\n      }\n    },\n    {\n      \"column\": \"OtherPay\",\n      \"properties\": {\n        \"dtype\": \"float32\",\n        \"num_unique_values\": 4,\n        \"samples\": [\n          2016.1346435546875,\n          907.5828857421875,\n          20637.875\n        ],\n        \"semantic_type\": \"\",\n        \"description\": \"\"\n      }\n    },\n    {\n      \"column\": \"Benefits\",\n      \"properties\": {\n        \"dtype\": \"float32\",\n        \"num_unique_values\": 4,\n        \"samples\": [\n          28407.841796875,\n          3728.906982421875,\n          40212.80859375\n        ],\n        \"semantic_type\": \"\",\n        \"description\": \"\"\n      }\n    },\n    {\n      \"column\": \"TotalPay\",\n      \"properties\": {\n        \"dtype\": \"float32\",\n        \"num_unique_values\": 4,\n        \"samples\": [\n          74027.3671875,\n          15572.09765625,\n          170564.828125\n        ],\n        \"semantic_type\": \"\",\n        \"description\": \"\"\n      }\n    },\n    {\n      \"column\": \"TotalPayBenefits\",\n      \"properties\": {\n        \"dtype\": \"float32\",\n        \"num_unique_values\": 4,\n        \"samples\": [\n          102435.2109375,\n          19301.005859375,\n          210777.65625\n        ],\n        \"semantic_type\": \"\",\n        \"description\": \"\"\n      }\n    },\n    {\n      \"column\": \"Year\",\n      \"properties\": {\n        \"dtype\": \"number\",\n        \"std\": 0.0,\n        \"min\": 2014.0,\n        \"max\": 2014.0,\n        \"num_unique_values\": 1,\n        \"samples\": [\n          2014.0\n        ],\n        \"semantic_type\": \"\",\n        \"description\": \"\"\n      }\n    },\n    {\n      \"column\": \"Status\",\n      \"properties\": {\n        \"dtype\": \"number\",\n        \"std\": 0.43047578102701084,\n        \"min\": 0.004285193289569657,\n        \"max\": 0.8992553657468244,\n        \"num_unique_values\": 4,\n        \"samples\": [\n          0.7742658332350513\n        ],\n        \"semantic_type\": \"\",\n        \"description\": \"\"\n      }\n    },\n    {\n      \"column\": \"Department\",\n      \"properties\": {\n        \"dtype\": \"string\",\n        \"num_unique_values\": 4,\n        \"samples\": [\n          \"Worker\"\n        ],\n        \"semantic_type\": \"\",\n        \"description\": \"\"\n      }\n    },\n    {\n      \"column\": \"DepartmentGroup\",\n      \"properties\": {\n        \"dtype\": \"string\",\n        \"num_unique_values\": 2,\n        \"samples\": [\n          \"Administration\"\n        ],\n        \"semantic_type\": \"\",\n        \"description\": \"\"\n      }\n    }\n  ]\n}"
            }
          },
          "metadata": {},
          "execution_count": 105
        }
      ]
    },
    {
      "cell_type": "markdown",
      "source": [
        "### Discussing the Clusters\n",
        "#### Cluster 0: High Pay, Law Enforcement (Firefighter), Mostly Full-time\n",
        "With a base pay of \\$112,568 with additionally high opportunity for overtime pay, other pay, and benefits. Totaling \\$210,778, this cluster likely represents fill-time workers falling under the broader `DepartmentGroup` category of Law Enforcement, while the mode `Department` is Firefighter. Due to the demanding nature of these jobs, these individuals earn a high base salary and strong compensation overall, and the mean `status` of 0.899 indicates that the majority of these individuals work full-time.\n",
        "\n",
        "#### Cluster 1: Mid-Pay Administrative Workers, Mixed Full- and Part-Time\n",
        "This cluster's mean `status` of 0.774 indicates a blend of full-time and part-time workers, favoring more full-time than part time. While base pay is decent, at $68,286, overtime and other pay opportunities are limited, suggesting a stable but slightly less well-compensated workforce in similar administrative roles. The mode `Department` is the generic \"Worker\", suggesting a high representation of middle management or more office-type roles.\n",
        "\n",
        "#### Cluster 2: High Pay, Law Enforcement (Officer), Mostly Full-time\n",
        "This cluster is most similar to cluster 0, but seems to more strongly represent the police force as opposed to fire department workforce, as in cluster 0. Boasting a similarly high -- even marginally higher -- base pay than cluster 0, they have a high total compensation package, with less opportunity for overtime pay compared to cluster 0, with a mean $6,694 overtime pay.The high mean `status` of 0.898, indicating a strong majority of full-time workers, aligning with expectations for such critical roles in public safety and law enforcement.\n",
        "\n",
        "#### Cluster 3: Very Low Pay, Nurses or other Administrative Workers, Part-Time\n",
        "This cluster is by far the least paid, and seems to include virtually all of the other roles not included in the other clusters. This cluster seems to include the vast majority of the part-time workforce, as it has a mean `status` of 0.004. With a base pay of \\$14,256 and a total compensation package -- including benefits -- of $19,301, this cluster likely contains lots of intern-like work, with very limited hours, likely contributing greatly to such a low total compensation in comparison to the other clusters. As a whole, all of the attributes of this cluster -- role, average pay, employment status -- suggest that this cluster is made up of interns, volunteers, or individuals in situations \"adjacent\" to interns or volunteers, like temp or contract workers, given the general fields of administration and healthcare, low pay, and overwhelmingly part-time employment status."
      ],
      "metadata": {
        "id": "jSG-2e-0r2AR"
      }
    },
    {
      "cell_type": "markdown",
      "source": [
        "## Conclusion\n",
        "The K-means clustering analysis, using PCA to reduce dimensionality and aid in the ease of cluster creation and grouping, revealed distinct groups within the San Francisco public workforce which each represented unique characteristics in terms of role, employment status, and compensation, and helps highlight certain roles and values that the government of San Francisco holds in high regard as it pertains to who they hire and what they find important.  \n",
        "\n",
        "The highest paid clusters, for example, 0 and 2, consist of mostly \"Law Enforcement\" roles, specifically fire department and police force roles, respectively. The high compensation and large cluster size reflects a very high demand for these roles, and suggests that there is a lot of opportunity for individuals pursuing roles in these fields for career growth and upward mobility.\n",
        "\n",
        "Cluster 1 reflects the city's need for a stable administrative workforce carrying out essential, yet less high-risk roles for city function.  \n",
        "\n",
        "Cluster 3, the lowest paid, part-time cluster, which likely consists of a large amount of temporary or contract workers, volunteers, or interns, highlights perhaps a more niche need within the public sector of San Francisco for flexible, more introductory roles or younger workers interested in pursuing a career in the public sector, possibly in healthcare, highlighting the city's opportunities for entry."
      ],
      "metadata": {
        "id": "NAWJNJ2f3pnk"
      }
    }
  ]
}